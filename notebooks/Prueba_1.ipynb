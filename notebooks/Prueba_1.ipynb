{
 "cells": [
  {
   "cell_type": "code",
   "execution_count": 1,
   "id": "dcfd8adf",
   "metadata": {},
   "outputs": [],
   "source": [
    "import ee\n",
    "import geemap"
   ]
  },
  {
   "cell_type": "code",
   "execution_count": 2,
   "id": "427e703d",
   "metadata": {},
   "outputs": [
    {
     "data": {
      "application/vnd.jupyter.widget-view+json": {
       "model_id": "8cf9cb8e93ab43499e5441309f63a815",
       "version_major": 2,
       "version_minor": 0
      },
      "text/plain": [
       "Map(center=[40, -100], controls=(WidgetControl(options=['position', 'transparent_bg'], widget=HBox(children=(T…"
      ]
     },
     "metadata": {},
     "output_type": "display_data"
    }
   ],
   "source": [
    "Map = geemap.Map(center=[40, -100], zoom=4)\n",
    "Map"
   ]
  },
  {
   "cell_type": "code",
   "execution_count": 7,
   "id": "80b0d810",
   "metadata": {},
   "outputs": [
    {
     "data": {
      "application/vnd.jupyter.widget-view+json": {
       "model_id": "8cf9cb8e93ab43499e5441309f63a815",
       "version_major": 2,
       "version_minor": 0
      },
      "text/plain": [
       "Map(bottom=277846.0, center=[-10.516167896948941, -76.72576904296875], controls=(WidgetControl(options=['posit…"
      ]
     },
     "metadata": {},
     "output_type": "display_data"
    }
   ],
   "source": [
    "Raura_RGB = ee.Image('users/davidroncal123/Imagen_truecolor_geo')\n",
    "Raura_INF = ee.Image('users/davidroncal123/Imagen_infrarojo_geo')\n",
    "\n",
    "table = ee.FeatureCollection(\"users/davidroncal123/AEA_RAURA\")\n",
    "# Set visualization parameters.\n",
    "vis_params = {\n",
    "    'min': 117.93390786749023,\n",
    "    'max': 1526.5943326709896,\n",
    "    'bands':['b1','b2','b3'],\n",
    "    'gamma':1.6\n",
    "}\n",
    "\n",
    "# Add Earth Engine layers to Map\n",
    "Map.addLayer(Raura_RGB.clip(table), vis_params, 'Raura RGB')\n",
    "Map.addLayer(Raura_INF.clip(table), vis_params, 'Raura Infrarojo')\n",
    "Map"
   ]
  },
  {
   "cell_type": "code",
   "execution_count": 11,
   "id": "3f3454ba",
   "metadata": {},
   "outputs": [
    {
     "data": {
      "application/vnd.jupyter.widget-view+json": {
       "model_id": "700149147673440aa9631c1303d45f05",
       "version_major": 2,
       "version_minor": 0
      },
      "text/plain": [
       "Map(center=[-10.4656, -76.7504], controls=(ZoomControl(options=['position', 'zoom_in_text', 'zoom_in_title', '…"
      ]
     },
     "metadata": {},
     "output_type": "display_data"
    }
   ],
   "source": [
    "m = geemap.Map(center=[-10.4656, -76.7504], zoom=10)\n",
    "\n",
    "left_layer = geemap.ee_tile_layer(Raura_RGB.clip(table), vis_params, 'Raura RGB')\n",
    "right_layer = geemap.ee_tile_layer(Raura_INF.clip(table), vis_params, 'Raura Infrarojo')\n",
    "m.split_map(left_layer, right_layer)\n",
    "m"
   ]
  },
  {
   "cell_type": "code",
   "execution_count": null,
   "id": "dcb0d3c6",
   "metadata": {},
   "outputs": [],
   "source": []
  }
 ],
 "metadata": {
  "kernelspec": {
   "display_name": "Python 3 (ipykernel)",
   "language": "python",
   "name": "python3"
  },
  "language_info": {
   "codemirror_mode": {
    "name": "ipython",
    "version": 3
   },
   "file_extension": ".py",
   "mimetype": "text/x-python",
   "name": "python",
   "nbconvert_exporter": "python",
   "pygments_lexer": "ipython3",
   "version": "3.8.13"
  }
 },
 "nbformat": 4,
 "nbformat_minor": 5
}

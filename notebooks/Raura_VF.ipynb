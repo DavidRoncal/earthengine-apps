{
 "cells": [
  {
   "cell_type": "code",
   "execution_count": 6,
   "id": "427e703d",
   "metadata": {},
   "outputs": [
    {
     "data": {
      "application/vnd.jupyter.widget-view+json": {
       "model_id": "feba682793db445da0bb1fa5c069547e",
       "version_major": 2,
       "version_minor": 0
      },
      "text/plain": [
       "Map(center=[-10.4659, -76.7519], controls=(WidgetControl(options=['position', 'transparent_bg'], widget=HBox(c…"
      ]
     },
     "metadata": {},
     "output_type": "display_data"
    }
   ],
   "source": [
    "import ee\n",
    "import geemap\n",
    "\n",
    "Map = geemap.Map(center=[-10.4659,-76.7519], zoom=10)\n",
    "Raura_RGB = ee.Image('users/davidroncal123/Imagen_truecolor_geo')\n",
    "Raura_INF = ee.Image('users/davidroncal123/Imagen_infrarojo_geo')\n",
    "\n",
    "table = ee.FeatureCollection(\"users/davidroncal123/AEA_RAURA\")\n",
    "# Set visualization parameters.\n",
    "vis_params = {\n",
    "    'min': 117.93390786749023,\n",
    "    'max': 1526.5943326709896,\n",
    "    'bands':['b1','b2','b3'],\n",
    "    'gamma':1.6\n",
    "}\n",
    "\n",
    "# Add Earth Engine layers to Map\n",
    "Map.addLayer(Raura_RGB.clip(table), vis_params, 'Raura RGB')\n",
    "Map.addLayer(Raura_INF.clip(table), vis_params, 'Raura Infrarojo')\n",
    "Map"
   ]
  }
 ],
 "metadata": {
  "kernelspec": {
   "display_name": "Python 3 (ipykernel)",
   "language": "python",
   "name": "python3"
  },
  "language_info": {
   "codemirror_mode": {
    "name": "ipython",
    "version": 3
   },
   "file_extension": ".py",
   "mimetype": "text/x-python",
   "name": "python",
   "nbconvert_exporter": "python",
   "pygments_lexer": "ipython3",
   "version": "3.8.13"
  }
 },
 "nbformat": 4,
 "nbformat_minor": 5
}
